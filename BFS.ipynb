{
 "cells": [
  {
   "cell_type": "markdown",
   "id": "a1a1413a",
   "metadata": {},
   "source": [
    "## Breadth-First Search (BFS) is a graph traversal algorithm used to explore nodes level by level, starting from a given source node.\n",
    "\n",
    "### Key Points:\n",
    "- BFS uses a queue (FIFO) to keep track of vertices to visit.\n",
    "\n",
    "- It marks each node as visited once it’s added to the queue to avoid visiting it again (important for cyclic graphs).\n",
    "\n",
    "- Works for both directed and undirected graphs."
   ]
  },
  {
   "cell_type": "code",
   "execution_count": null,
   "id": "a6784c7f",
   "metadata": {},
   "outputs": [
    {
     "name": "stdout",
     "output_type": "stream",
     "text": [
      "1\n",
      "2\n",
      "3\n",
      "4\n",
      "5\n",
      "6\n"
     ]
    }
   ],
   "source": [
    "'''\n",
    "BFS  - Breadth First Search \n",
    "'''\n",
    "\n",
    "from collections import deque\n",
    "\n",
    "def bfs(graph , start):\n",
    "    \n",
    "    visited = set() # for taking the record of visited nodes\n",
    "    queue = deque([start]) # The queue that stores all the neighbours\n",
    "    visited.add(start) # The first node that we start is already visited\n",
    "\n",
    "    # until the queue becomes empty \n",
    "    while queue:\n",
    "        vertex = queue.popleft()\n",
    "        print(vertex , end = ' ')\n",
    "        # visiting the neighbour vertex / vertices\n",
    "        for neighbour in graph[vertex]:\n",
    "            if neighbour not in visited:\n",
    "                queue.append(neighbour)\n",
    "                visited.add(neighbour) \n",
    "\n",
    "# sample graph \n",
    "graph = {\n",
    "    'A': ['B', 'C'],\n",
    "    'B': ['A', 'D'],\n",
    "    'C': ['A', 'E'],\n",
    "    'D': ['B'],\n",
    "    'E': ['C']\n",
    "}\n",
    "\n",
    "if __name__ == '__main__':\n",
    "    start_point = 'A'\n",
    "    print(f\"BFS traversal starting from '{start_point}' : \")\n",
    "    bfs(graph , start_point)"
   ]
  }
 ],
 "metadata": {
  "kernelspec": {
   "display_name": "venv",
   "language": "python",
   "name": "python3"
  },
  "language_info": {
   "codemirror_mode": {
    "name": "ipython",
    "version": 3
   },
   "file_extension": ".py",
   "mimetype": "text/x-python",
   "name": "python",
   "nbconvert_exporter": "python",
   "pygments_lexer": "ipython3",
   "version": "3.12.4"
  }
 },
 "nbformat": 4,
 "nbformat_minor": 5
}
