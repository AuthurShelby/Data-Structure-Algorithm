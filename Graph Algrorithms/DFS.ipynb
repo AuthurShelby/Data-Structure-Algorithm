{
 "cells": [
  {
   "cell_type": "markdown",
   "id": "7c1be99f",
   "metadata": {},
   "source": [
    "# 1. DFS Explanation (Stack-based, iterative)\n",
    "DFS explores as deep as possible down a branch before backtracking. Unlike BFS, which uses a queue, DFS uses a stack (LIFO: Last In, First Out).\n",
    "\n",
    "Steps Recap:\n",
    "- Push the starting vertex onto a stack.\n",
    "\n",
    "- Pop the top item. If not visited, mark it visited.\n",
    "\n",
    "- Push all unvisited neighbors onto the stack.\n",
    "\n",
    "- Repeat until the stack is empty."
   ]
  },
  {
   "cell_type": "code",
   "execution_count": 8,
   "id": "c60002d3",
   "metadata": {},
   "outputs": [
    {
     "name": "stdout",
     "output_type": "stream",
     "text": [
      "DFS traversal starting from 'A' : \n",
      "A B D C E "
     ]
    }
   ],
   "source": [
    "'''\n",
    "DFS - Depth First Search (loop based)\n",
    "'''\n",
    "\n",
    "def dfs(graph , start):\n",
    "    \n",
    "    visited = set()\n",
    "    stack = [start]\n",
    "\n",
    "    while stack:\n",
    "        vertex = stack.pop() # pop the top of the stack \n",
    "\n",
    "        if vertex not in visited:\n",
    "            print(vertex , end=' ')\n",
    "            visited.add(vertex)\n",
    "        \n",
    "        # Add neighbors in reverse to mimic recursive DFS order\n",
    "        for neighbour in reversed(graph[vertex]):\n",
    "            if neighbour not in visited:\n",
    "                stack.append(neighbour)\n",
    "\n",
    "# Sample graph\n",
    "graph = {\n",
    "    'A': ['B', 'C'],\n",
    "    'B': ['A', 'D'],\n",
    "    'C': ['A', 'E'],\n",
    "    'D': ['B'],\n",
    "    'E': ['C']\n",
    "}\n",
    "\n",
    "if __name__ == '__main__':\n",
    "    start_point = 'A'\n",
    "    print(f\"DFS traversal starting from '{start_point}' : \")\n",
    "    dfs(graph, start_point)"
   ]
  },
  {
   "cell_type": "markdown",
   "id": "27652be1",
   "metadata": {},
   "source": [
    "# 2. DFS Implementation (Recursive Call Stack)\n",
    "## How it works (Step-by-step):\n",
    "- Starts with a node (vertex)\n",
    "\n",
    "- Marks it as visited\n",
    "\n",
    "- Recursively visits all unvisited neighbors\n",
    "\n",
    "- Naturally uses the call stack to remember where it came from (unlike iterative DFS that uses a manual stack)"
   ]
  },
  {
   "cell_type": "code",
   "execution_count": 9,
   "id": "c0dc65d0",
   "metadata": {},
   "outputs": [
    {
     "name": "stdout",
     "output_type": "stream",
     "text": [
      "DFS traversal starting from 'A' : \n",
      "A B D C E "
     ]
    }
   ],
   "source": [
    "'''\n",
    "DFS - Depth First Search (Recursive Call Stack)\n",
    "'''\n",
    "\n",
    "def dfs_recursive(graph , vertex , visited = None):\n",
    "    \n",
    "    if visited is None:\n",
    "        visited = set()\n",
    "    \n",
    "    print(vertex , end=' ') # visit the current node\n",
    "    visited.add(vertex) \n",
    "\n",
    "    for neighbour in graph[vertex]:\n",
    "        if neighbour not in visited: # visiting un-visited neighbours\n",
    "            dfs_recursive(graph , neighbour , visited) # recursive function \n",
    "            \n",
    "# Sample graph\n",
    "graph = {\n",
    "    'A': ['B', 'C'],\n",
    "    'B': ['A', 'D'],\n",
    "    'C': ['A', 'E'],\n",
    "    'D': ['B'],\n",
    "    'E': ['C']\n",
    "}\n",
    "\n",
    "if __name__ == '__main__':\n",
    "    start_point = 'A'\n",
    "    print(f\"DFS traversal starting from '{start_point}' : \")\n",
    "    dfs(graph, start_point)"
   ]
  }
 ],
 "metadata": {
  "kernelspec": {
   "display_name": "venv",
   "language": "python",
   "name": "python3"
  },
  "language_info": {
   "codemirror_mode": {
    "name": "ipython",
    "version": 3
   },
   "file_extension": ".py",
   "mimetype": "text/x-python",
   "name": "python",
   "nbconvert_exporter": "python",
   "pygments_lexer": "ipython3",
   "version": "3.12.4"
  }
 },
 "nbformat": 4,
 "nbformat_minor": 5
}
