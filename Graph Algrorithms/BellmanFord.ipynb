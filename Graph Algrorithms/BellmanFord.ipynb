{
 "cells": [
  {
   "cell_type": "markdown",
   "metadata": {},
   "source": [
    "# What is Bellman-Ford Algorithm?\n",
    "The Bellman-Ford Algorithm is used to compute single-source shortest paths from a source vertex to all other vertices in a weighted graph, even when the graph contains negative weight edges.\n",
    "\n",
    "Unlike Dijkstra's algorithm, Bellman-Ford can handle negative weights, but not negative-weight cycles (i.e., cycles where the total weight is negative).\n",
    "\n",
    "## Key Points\n",
    "\n",
    "- Time Complexity: O(V * E)\n",
    "\n",
    "- Space Complexity: O(V)\n",
    "\n",
    "- Handles negative weights\n",
    "\n",
    "- Detects negative weight cycles\n",
    "\n",
    "## Algorithm Steps\n",
    "- Initialize distances from source to all vertices as infinity and distance to source itself as 0.\n",
    "\n",
    "- Repeat V-1 times (V = number of vertices):\n",
    "\n",
    "- For each edge (u, v) with weight w, check if dist[u] + w < dist[v] and update dist[v].\n",
    "\n",
    "- Do one more pass to check for negative-weight cycles.\n",
    "\n",
    "## Dry Run Example\n",
    "Graph:\n",
    "Vertices = {0, 1, 2, 3}\n",
    "Edges =\n",
    "\n",
    "0 → 1 (weight 1)\n",
    "\n",
    "0 → 2 (weight 4)\n",
    "\n",
    "1 → 2 (weight -3)\n",
    "\n",
    "2 → 3 (weight 2)\n",
    "\n",
    "3 → 1 (weight 5)\n",
    "\n",
    "Source: 0\n",
    "\n",
    "| Iteration | dist\\[0] | dist\\[1] | dist\\[2] | dist\\[3] |\n",
    "| --------- | -------- | -------- | -------- | -------- |\n",
    "| Init      | 0        | ∞        | ∞        | ∞        |\n",
    "| 1st pass  | 0        | 1        | -2       | 0        |\n",
    "| 2nd pass  | 0        | 1        | -2       | 0        |\n",
    "| 3rd pass  | 0        | 1        | -2       | 0        |\n",
    "\n",
    "→ No further changes in the last pass, and no negative cycle found.\n"
   ]
  },
  {
   "cell_type": "code",
   "execution_count": 1,
   "metadata": {},
   "outputs": [
    {
     "name": "stdout",
     "output_type": "stream",
     "text": [
      "Vertex Distance from Source\n",
      "0\t\t0\n",
      "1\t\t1\n",
      "2\t\t-2\n",
      "3\t\t0\n"
     ]
    }
   ],
   "source": [
    "\"\"\"\n",
    "Bellman Ford Algorithm\n",
    "\"\"\"\n",
    "\n",
    "def Bellman_ford(adj_list , V ,source):\n",
    "    \n",
    "    dist = [float('inf')] * V\n",
    "    # STEP 1 : INITITALIZE THE FIRST SOURCE AS 0\n",
    "    dist[source] = 0\n",
    "\n",
    "    # STEP 2 : RELAX ALL EDGES V-1 TIMES \n",
    "    for _ in range(V-1):\n",
    "        for u in range(V):\n",
    "            for v , w in adj_list[u]:\n",
    "                if dist[u]!= float('inf') and dist[u]+w < dist[v]:\n",
    "                    dist[v] = dist[u]+w\n",
    "    \n",
    "    # STEP 3 : CHECK FOR NEGATIVE-WEIGHT CYCLES\n",
    "    for u in range(V):\n",
    "        for v , w in adj_list[u]:\n",
    "            if dist[u]!=float('inf') and dist[u]+w < dist[v]:\n",
    "                print('Graph contains negative-weight cycle')\n",
    "                return \n",
    "\n",
    "    print(\"Vertex Distance from Source\")\n",
    "    for i in range(V):\n",
    "        print(f\"{i}\\t\\t{dist[i]}\")\n",
    "\n",
    "adj_list = {\n",
    "    0: [(1, 1), (2, 4)],\n",
    "    1: [(2, -3)],\n",
    "    2: [(3, 2)],\n",
    "    3: [(1, 5)]\n",
    "}\n",
    "\n",
    "V = len(adj_list)\n",
    "\n",
    "if __name__ == \"__main__\": \n",
    "    Bellman_ford(adj_list, V, 0)\n"
   ]
  }
 ],
 "metadata": {
  "kernelspec": {
   "display_name": "Python 3",
   "language": "python",
   "name": "python3"
  },
  "language_info": {
   "codemirror_mode": {
    "name": "ipython",
    "version": 3
   },
   "file_extension": ".py",
   "mimetype": "text/x-python",
   "name": "python",
   "nbconvert_exporter": "python",
   "pygments_lexer": "ipython3",
   "version": "3.12.3"
  }
 },
 "nbformat": 4,
 "nbformat_minor": 2
}
